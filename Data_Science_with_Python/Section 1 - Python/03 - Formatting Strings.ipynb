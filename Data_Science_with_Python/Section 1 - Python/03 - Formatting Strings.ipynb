{
 "cells": [
  {
   "cell_type": "markdown",
   "metadata": {},
   "source": [
    "# Format\n",
    "We can inject variables into the print() functions using the format() method. We can also control the decimal points for numbers and number of characters for strings to be printed."
   ]
  },
  {
   "cell_type": "code",
   "execution_count": 1,
   "metadata": {},
   "outputs": [],
   "source": [
    "city = 'Sydney'"
   ]
  },
  {
   "cell_type": "code",
   "execution_count": 2,
   "metadata": {},
   "outputs": [
    {
     "name": "stdout",
     "output_type": "stream",
     "text": [
      "Sydney\n"
     ]
    }
   ],
   "source": [
    "print(city)"
   ]
  },
  {
   "cell_type": "code",
   "execution_count": 3,
   "metadata": {},
   "outputs": [
    {
     "name": "stdout",
     "output_type": "stream",
     "text": [
      "The best city is Sydney\n"
     ]
    }
   ],
   "source": [
    "print('The best city is ' + city )"
   ]
  },
  {
   "cell_type": "markdown",
   "metadata": {},
   "source": [
    "## f format"
   ]
  },
  {
   "cell_type": "code",
   "execution_count": 4,
   "metadata": {},
   "outputs": [
    {
     "name": "stdout",
     "output_type": "stream",
     "text": [
      "My name is Berk\n"
     ]
    }
   ],
   "source": [
    "print('My name is {}'.format('Berk'))"
   ]
  },
  {
   "cell_type": "code",
   "execution_count": 5,
   "metadata": {},
   "outputs": [
    {
     "name": "stdout",
     "output_type": "stream",
     "text": [
      "diamonds clubs hearts\n"
     ]
    }
   ],
   "source": [
    "print('{} {} {}'.format('diamonds','clubs','hearts'))"
   ]
  },
  {
   "cell_type": "code",
   "execution_count": 6,
   "metadata": {},
   "outputs": [
    {
     "name": "stdout",
     "output_type": "stream",
     "text": [
      "hearts diamonds clubs\n"
     ]
    }
   ],
   "source": [
    "print('{2} {0} {1}'.format('diamonds','clubs','hearts'))"
   ]
  },
  {
   "cell_type": "code",
   "execution_count": 7,
   "metadata": {},
   "outputs": [
    {
     "name": "stdout",
     "output_type": "stream",
     "text": [
      "hearts clubs diamonds\n"
     ]
    }
   ],
   "source": [
    "print('{z} {y} {x}'.format(x='diamonds',y='clubs',z='hearts'))"
   ]
  },
  {
   "cell_type": "code",
   "execution_count": 8,
   "metadata": {},
   "outputs": [
    {
     "data": {
      "text/plain": [
       "166.66666666666666"
      ]
     },
     "execution_count": 8,
     "metadata": {},
     "output_type": "execute_result"
    }
   ],
   "source": [
    "number = 500/3\n",
    "number"
   ]
  },
  {
   "cell_type": "code",
   "execution_count": 9,
   "metadata": {},
   "outputs": [
    {
     "name": "stdout",
     "output_type": "stream",
     "text": [
      "Given number: 166.66666666666666\n"
     ]
    }
   ],
   "source": [
    "print('Given number: {}'.format(number))"
   ]
  },
  {
   "cell_type": "code",
   "execution_count": 10,
   "metadata": {},
   "outputs": [
    {
     "name": "stdout",
     "output_type": "stream",
     "text": [
      "Given number: 166.6667\n"
     ]
    }
   ],
   "source": [
    "print('Given number: {n:8.4f}'.format(n=number))"
   ]
  },
  {
   "cell_type": "markdown",
   "metadata": {},
   "source": [
    "## % format"
   ]
  },
  {
   "cell_type": "raw",
   "metadata": {},
   "source": [
    "%f --> float\n",
    "%d --> integer\n",
    "%s --> string, list"
   ]
  },
  {
   "cell_type": "code",
   "execution_count": 11,
   "metadata": {},
   "outputs": [
    {
     "name": "stdout",
     "output_type": "stream",
     "text": [
      "I am 15 years old.\n"
     ]
    }
   ],
   "source": [
    "age = 15\n",
    "\n",
    "print('I am %d years old.' %age)"
   ]
  },
  {
   "cell_type": "code",
   "execution_count": 12,
   "metadata": {},
   "outputs": [
    {
     "name": "stdout",
     "output_type": "stream",
     "text": [
      "Alina and Berk are a couple.\n"
     ]
    }
   ],
   "source": [
    "name_1 = 'Alina'\n",
    "name_2 = 'Berk'\n",
    "print('%s and %s are a couple.' % (name_1,name_2))"
   ]
  },
  {
   "cell_type": "code",
   "execution_count": 13,
   "metadata": {},
   "outputs": [
    {
     "name": "stdout",
     "output_type": "stream",
     "text": [
      "given number: 166.666666667\n"
     ]
    }
   ],
   "source": [
    "print(\"given number: %.9f\" % number)"
   ]
  },
  {
   "cell_type": "code",
   "execution_count": 14,
   "metadata": {},
   "outputs": [],
   "source": [
    "m = [1,2,3]"
   ]
  },
  {
   "cell_type": "code",
   "execution_count": 15,
   "metadata": {},
   "outputs": [
    {
     "name": "stdout",
     "output_type": "stream",
     "text": [
      "m is [1, 2, 3]\n"
     ]
    }
   ],
   "source": [
    "print('m is %s' %m)"
   ]
  }
 ],
 "metadata": {
  "kernelspec": {
   "display_name": "Python 3",
   "language": "python",
   "name": "python3"
  },
  "language_info": {
   "codemirror_mode": {
    "name": "ipython",
    "version": 3
   },
   "file_extension": ".py",
   "mimetype": "text/x-python",
   "name": "python",
   "nbconvert_exporter": "python",
   "pygments_lexer": "ipython3",
   "version": "3.7.6"
  }
 },
 "nbformat": 4,
 "nbformat_minor": 2
}
