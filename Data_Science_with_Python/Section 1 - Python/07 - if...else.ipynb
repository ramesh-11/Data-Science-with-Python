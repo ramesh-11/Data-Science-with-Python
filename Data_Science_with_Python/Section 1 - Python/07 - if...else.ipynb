{
 "cells": [
  {
   "cell_type": "markdown",
   "metadata": {},
   "source": [
    "### General structure:"
   ]
  },
  {
   "cell_type": "raw",
   "metadata": {},
   "source": [
    "if cond1:\n",
    "    do_this_1\n",
    "elif cond2:\n",
    "    do_this_2\n",
    "else:\n",
    "    do_this_3"
   ]
  },
  {
   "cell_type": "markdown",
   "metadata": {},
   "source": [
    "####  Usually combined with logical conditions"
   ]
  },
  {
   "cell_type": "code",
   "execution_count": 1,
   "metadata": {},
   "outputs": [
    {
     "name": "stdout",
     "output_type": "stream",
     "text": [
      "5 is larger than 3!\n"
     ]
    }
   ],
   "source": [
    "if 5>3:\n",
    "    print(\"5 is larger than 3!\")"
   ]
  },
  {
   "cell_type": "code",
   "execution_count": 2,
   "metadata": {},
   "outputs": [
    {
     "name": "stdout",
     "output_type": "stream",
     "text": [
      "at least one of the two conditions returns True!\n"
     ]
    }
   ],
   "source": [
    "if 4>5 or 5==5:\n",
    "    print('at least one of the two conditions returns True!')"
   ]
  },
  {
   "cell_type": "code",
   "execution_count": 3,
   "metadata": {},
   "outputs": [
    {
     "name": "stdout",
     "output_type": "stream",
     "text": [
      "Both conditions returned True!\n"
     ]
    }
   ],
   "source": [
    "if 4<5 and 5==5:\n",
    "    print('Both conditions returned True!')"
   ]
  },
  {
   "cell_type": "code",
   "execution_count": 4,
   "metadata": {},
   "outputs": [
    {
     "name": "stdout",
     "output_type": "stream",
     "text": [
      "name_1 is not the same as name 2!\n"
     ]
    }
   ],
   "source": [
    "name_1 = 'Berk'\n",
    "name_2 = 'Tarik'\n",
    "\n",
    "if name_1 == name_2:\n",
    "    print(\"name 1 is same as name 2!\")\n",
    "else:\n",
    "    print(\"name_1 is not the same as name 2!\")"
   ]
  },
  {
   "cell_type": "code",
   "execution_count": 5,
   "metadata": {},
   "outputs": [
    {
     "name": "stdout",
     "output_type": "stream",
     "text": [
      "name 1 contains less characters than name 2!\n"
     ]
    }
   ],
   "source": [
    "if name_1 == name_2:\n",
    "    print(\"name 1 is same as name 2!\")\n",
    "elif len(name_1)<len(name_2):\n",
    "    print(\"name 1 contains less characters than name 2!\")\n",
    "else:\n",
    "    print(\"Both of the first two conditions are not satisfied!\")"
   ]
  },
  {
   "cell_type": "code",
   "execution_count": 6,
   "metadata": {},
   "outputs": [
    {
     "name": "stdout",
     "output_type": "stream",
     "text": [
      "name 1 is Berk. Also, name 1 has same number of characters as name 3!\n"
     ]
    }
   ],
   "source": [
    "name_3 = 'John'\n",
    "\n",
    "if name_1 == 'Berk' and len(name_1) == len(name_3):\n",
    "    print(\"name 1 is Berk. Also, name 1 has same number of characters as name 3!\")\n"
   ]
  },
  {
   "cell_type": "code",
   "execution_count": 7,
   "metadata": {},
   "outputs": [
    {
     "name": "stdout",
     "output_type": "stream",
     "text": [
      "name 3 is not Berk BUT name 1 and name 3 have same number of characters!\n"
     ]
    }
   ],
   "source": [
    "if name_3 == 'Berk' or len(name_1) == len(name_3):\n",
    "    print(\"name 3 is not Berk BUT name 1 and name 3 have same number of characters!\")"
   ]
  }
 ],
 "metadata": {
  "kernelspec": {
   "display_name": "Python 3",
   "language": "python",
   "name": "python3"
  },
  "language_info": {
   "codemirror_mode": {
    "name": "ipython",
    "version": 3
   },
   "file_extension": ".py",
   "mimetype": "text/x-python",
   "name": "python",
   "nbconvert_exporter": "python",
   "pygments_lexer": "ipython3",
   "version": "3.7.6"
  }
 },
 "nbformat": 4,
 "nbformat_minor": 4
}
