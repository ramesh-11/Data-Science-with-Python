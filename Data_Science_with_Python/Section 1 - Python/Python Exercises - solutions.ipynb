{
 "cells": [
  {
   "cell_type": "markdown",
   "metadata": {},
   "source": [
    "# Python Exercises"
   ]
  },
  {
   "cell_type": "markdown",
   "metadata": {},
   "source": [
    "In this section, there are some exercise questions about what we have learned in the python section of the course."
   ]
  },
  {
   "cell_type": "markdown",
   "metadata": {},
   "source": [
    "#### 1) What is remainder of 5**2/3 ?"
   ]
  },
  {
   "cell_type": "code",
   "execution_count": 1,
   "metadata": {},
   "outputs": [
    {
     "data": {
      "text/plain": [
       "1"
      ]
     },
     "execution_count": 1,
     "metadata": {},
     "output_type": "execute_result"
    }
   ],
   "source": [
    "(5**2)%3"
   ]
  },
  {
   "cell_type": "markdown",
   "metadata": {},
   "source": [
    "#### 2) Given string:"
   ]
  },
  {
   "cell_type": "markdown",
   "metadata": {},
   "source": [
    "    area = 'anatolia'"
   ]
  },
  {
   "cell_type": "markdown",
   "metadata": {},
   "source": [
    "  #### 2a) Get the 'ana' string from the area variable given above:"
   ]
  },
  {
   "cell_type": "code",
   "execution_count": 2,
   "metadata": {},
   "outputs": [],
   "source": [
    "area = 'anatolia'"
   ]
  },
  {
   "cell_type": "code",
   "execution_count": 3,
   "metadata": {},
   "outputs": [
    {
     "data": {
      "text/plain": [
       "'ana'"
      ]
     },
     "execution_count": 3,
     "metadata": {},
     "output_type": "execute_result"
    }
   ],
   "source": [
    "area[0:3]"
   ]
  },
  {
   "cell_type": "markdown",
   "metadata": {},
   "source": [
    "####  2b) Capitalize the first and last letters of the string stored by the name area:"
   ]
  },
  {
   "cell_type": "code",
   "execution_count": 4,
   "metadata": {},
   "outputs": [
    {
     "data": {
      "text/plain": [
       "'AnatoliA'"
      ]
     },
     "execution_count": 4,
     "metadata": {},
     "output_type": "execute_result"
    }
   ],
   "source": [
    "area.capitalize()[:-1]+area[-1].upper()"
   ]
  },
  {
   "cell_type": "markdown",
   "metadata": {},
   "source": [
    "#### 3) Form a list from the string stored by the variable x by splitting it when there is a comma (Hint:Split()):"
   ]
  },
  {
   "cell_type": "markdown",
   "metadata": {},
   "source": [
    "    x = ' I will be visiting Sydney,Istanbul,Chicago and Madrid this summer.'"
   ]
  },
  {
   "cell_type": "code",
   "execution_count": 5,
   "metadata": {},
   "outputs": [],
   "source": [
    "x = ' I will be visiting Sydney,Istanbul,Chicago and Madrid this summer.'"
   ]
  },
  {
   "cell_type": "code",
   "execution_count": 6,
   "metadata": {},
   "outputs": [
    {
     "data": {
      "text/plain": [
       "[' I will be visiting Sydney', 'Istanbul', 'Chicago and Madrid this summer.']"
      ]
     },
     "execution_count": 6,
     "metadata": {},
     "output_type": "execute_result"
    }
   ],
   "source": [
    "x.split(',')"
   ]
  },
  {
   "cell_type": "markdown",
   "metadata": {},
   "source": [
    "#### 4) Given variables:\n",
    "       country = China\n",
    "       time = december\n",
    "       virus = Corona\n",
    "\n",
    "#### Print the sentence below using .format() method and given variables:\n",
    "       "
   ]
  },
  {
   "cell_type": "code",
   "execution_count": 7,
   "metadata": {},
   "outputs": [],
   "source": [
    "country = 'China'\n",
    "time = 'december'\n",
    "virus = 'Corona'"
   ]
  },
  {
   "cell_type": "code",
   "execution_count": 8,
   "metadata": {},
   "outputs": [
    {
     "name": "stdout",
     "output_type": "stream",
     "text": [
      "Coronavirus was first seen in China in december, 2019.  \n"
     ]
    }
   ],
   "source": [
    "print(\"{}virus was first seen in {} in {}, 2019.  \".format(virus,country,time))"
   ]
  },
  {
   "cell_type": "markdown",
   "metadata": {},
   "source": [
    "#### 5) Given list variable: \n",
    "        lst = [14,2,9,8,12,65,64]\n",
    "#### get the following items from the list respectively:\n",
    "        [2, 9, 8, 12]\n",
    "        [64]\n",
    "#### Do the following modifications to the list respectively:\n",
    "        add value 33 to the end of the list\n",
    "        remove the first value in the list\n",
    "        sort the list\n",
    "#### the final list should look like this:        \n",
    "         [2, 8, 9, 12, 33, 64, 65]"
   ]
  },
  {
   "cell_type": "code",
   "execution_count": 9,
   "metadata": {},
   "outputs": [],
   "source": [
    "lst = [14,2,9,8,12,65,64]"
   ]
  },
  {
   "cell_type": "code",
   "execution_count": 10,
   "metadata": {},
   "outputs": [
    {
     "data": {
      "text/plain": [
       "[2, 9, 8, 12]"
      ]
     },
     "execution_count": 10,
     "metadata": {},
     "output_type": "execute_result"
    }
   ],
   "source": [
    "lst[1:5]"
   ]
  },
  {
   "cell_type": "code",
   "execution_count": 11,
   "metadata": {},
   "outputs": [
    {
     "data": {
      "text/plain": [
       "64"
      ]
     },
     "execution_count": 11,
     "metadata": {},
     "output_type": "execute_result"
    }
   ],
   "source": [
    "lst[-1]"
   ]
  },
  {
   "cell_type": "code",
   "execution_count": 12,
   "metadata": {},
   "outputs": [
    {
     "data": {
      "text/plain": [
       "[2, 8, 9, 12, 33, 64, 65]"
      ]
     },
     "execution_count": 12,
     "metadata": {},
     "output_type": "execute_result"
    }
   ],
   "source": [
    "lst.append(33)\n",
    "lst.pop(0)\n",
    "lst.sort()\n",
    "lst"
   ]
  },
  {
   "cell_type": "markdown",
   "metadata": {},
   "source": [
    "#### 6) Given dictionary variable:\n",
    "        d = {'k1':[1,{'animals':['cat','dog','pizza',{'tricky':[1,2,3,'hi']}]},2,3],'k2':[1,2]}\n",
    "     \n",
    "#### Get the string 'hi' from the given dictionary:"
   ]
  },
  {
   "cell_type": "code",
   "execution_count": 13,
   "metadata": {},
   "outputs": [],
   "source": [
    "d = {'k1':[1,{'animals':['cat','dog','pizza',{'tricky':[1,2,3,'hi']}]},2,3],'k2':[1,2]}"
   ]
  },
  {
   "cell_type": "code",
   "execution_count": 14,
   "metadata": {},
   "outputs": [
    {
     "data": {
      "text/plain": [
       "'hi'"
      ]
     },
     "execution_count": 14,
     "metadata": {},
     "output_type": "execute_result"
    }
   ],
   "source": [
    "d['k1'][1]['animals'][3]['tricky'][3]"
   ]
  },
  {
   "cell_type": "markdown",
   "metadata": {},
   "source": [
    "#### 7) Given string variable:\n",
    "        sentence = \"Let's meet another day.\"\n",
    "        "
   ]
  },
  {
   "cell_type": "code",
   "execution_count": 15,
   "metadata": {},
   "outputs": [],
   "source": [
    "sentence = \"Let's meet another day.\""
   ]
  },
  {
   "cell_type": "markdown",
   "metadata": {},
   "source": [
    "#### 7a) Print every character in the string variable using a for loop:"
   ]
  },
  {
   "cell_type": "code",
   "execution_count": 16,
   "metadata": {},
   "outputs": [
    {
     "name": "stdout",
     "output_type": "stream",
     "text": [
      "L\n",
      "e\n",
      "t\n",
      "'\n",
      "s\n",
      " \n",
      "m\n",
      "e\n",
      "e\n",
      "t\n",
      " \n",
      "a\n",
      "n\n",
      "o\n",
      "t\n",
      "h\n",
      "e\n",
      "r\n",
      " \n",
      "d\n",
      "a\n",
      "y\n",
      ".\n"
     ]
    }
   ],
   "source": [
    "for char in sentence:\n",
    "    print(char)"
   ]
  },
  {
   "cell_type": "markdown",
   "metadata": {},
   "source": [
    "#### 7b) This time, in the same loop, print all the characters except spaces:"
   ]
  },
  {
   "cell_type": "code",
   "execution_count": 17,
   "metadata": {},
   "outputs": [
    {
     "name": "stdout",
     "output_type": "stream",
     "text": [
      "L\n",
      "e\n",
      "t\n",
      "'\n",
      "s\n",
      "m\n",
      "e\n",
      "e\n",
      "t\n",
      "a\n",
      "n\n",
      "o\n",
      "t\n",
      "h\n",
      "e\n",
      "r\n",
      "d\n",
      "a\n",
      "y\n",
      ".\n"
     ]
    }
   ],
   "source": [
    "for char in sentence:\n",
    "    if char == ' ':\n",
    "        pass\n",
    "    else:\n",
    "        print(char)"
   ]
  },
  {
   "cell_type": "markdown",
   "metadata": {},
   "source": [
    "#### 7c) Turn the for loop we have just created into a function definition (you can name it anything you want) which recieves the variable sentence. Then execute this function passing the sentence variable:"
   ]
  },
  {
   "cell_type": "code",
   "execution_count": 18,
   "metadata": {},
   "outputs": [],
   "source": [
    "def my_func(sent):\n",
    "    for char in sentence:\n",
    "        if char == ' ':\n",
    "            pass\n",
    "        else:\n",
    "            print(char)"
   ]
  },
  {
   "cell_type": "code",
   "execution_count": 19,
   "metadata": {},
   "outputs": [
    {
     "name": "stdout",
     "output_type": "stream",
     "text": [
      "L\n",
      "e\n",
      "t\n",
      "'\n",
      "s\n",
      "m\n",
      "e\n",
      "e\n",
      "t\n",
      "a\n",
      "n\n",
      "o\n",
      "t\n",
      "h\n",
      "e\n",
      "r\n",
      "d\n",
      "a\n",
      "y\n",
      ".\n"
     ]
    }
   ],
   "source": [
    "my_func(sentence)"
   ]
  },
  {
   "cell_type": "code",
   "execution_count": null,
   "metadata": {},
   "outputs": [],
   "source": []
  }
 ],
 "metadata": {
  "kernelspec": {
   "display_name": "Python 3",
   "language": "python",
   "name": "python3"
  },
  "language_info": {
   "codemirror_mode": {
    "name": "ipython",
    "version": 3
   },
   "file_extension": ".py",
   "mimetype": "text/x-python",
   "name": "python",
   "nbconvert_exporter": "python",
   "pygments_lexer": "ipython3",
   "version": "3.7.6"
  }
 },
 "nbformat": 4,
 "nbformat_minor": 2
}
